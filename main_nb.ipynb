{
 "cells": [
  {
   "cell_type": "code",
   "execution_count": null,
   "metadata": {},
   "outputs": [],
   "source": [
    "import pandas as pd\n",
    "from preprocessor import text_cleaner, selector, p_selector\n",
    "from connector import connection"
   ]
  },
  {
   "cell_type": "markdown",
   "metadata": {},
   "source": [
    "Establishing connection with the database."
   ]
  },
  {
   "cell_type": "code",
   "execution_count": null,
   "metadata": {},
   "outputs": [],
   "source": [
    "con = connection.Connection()\n",
    "content = con.select_table('text', 'old_text', 'WHERE old_id > 1675 AND old_id < 1699')\n",
    "con.terminate_connection()"
   ]
  },
  {
   "cell_type": "markdown",
   "metadata": {},
   "source": [
    "In order to decode our byte data types into strings, it is here necessary to unpack\n",
    "the elements out of tuples_list and assign them to input_text.\n",
    "First, we're initializing a new list and will leave it empty:"
   ]
  },
  {
   "cell_type": "code",
   "execution_count": null,
   "metadata": {},
   "outputs": [],
   "source": [
    "input_text = []\n",
    "for tuples in content:\n",
    "    input_tuple = tuples\n",
    "    for bytes_elements in tuples:\n",
    "        decoded = bytes_elements.decode()\n",
    "        input_text.append(decoded)"
   ]
  },
  {
   "cell_type": "markdown",
   "metadata": {},
   "source": [
    "Iterating the preprocessor functions over input_text and assigning the results to a new list.\n",
    "Parameters could be turned on/off e.g. text_cleaner.clean(x, newline=False)"
   ]
  },
  {
   "cell_type": "code",
   "execution_count": null,
   "metadata": {},
   "outputs": [],
   "source": [
    "text_transformed = list(map(lambda x: text_cleaner.clean(x), input_text))\n",
    "article_title = list(map(lambda y: selector.find_title(y), text_transformed))\n",
    "article_subheaders = list(map(lambda z: selector.find_subheader(z), text_transformed))\n",
    "cleaned_subheaders = selector.clean_subheaders(article_subheaders)"
   ]
  },
  {
   "cell_type": "markdown",
   "metadata": {},
   "source": [
    "Defining the dictionary that holds our two lists and that will form our new database with the preprocessed data"
   ]
  },
  {
   "cell_type": "code",
   "execution_count": null,
   "metadata": {},
   "outputs": [],
   "source": [
    "data = {\n",
    "    'title': article_title,\n",
    "    'article': text_transformed,\n",
    "    'subheaders': cleaned_subheaders\n",
    "}"
   ]
  },
  {
   "cell_type": "markdown",
   "metadata": {},
   "source": [
    "Creating a pandas DataFrame to hold our preprocessed data"
   ]
  },
  {
   "cell_type": "code",
   "execution_count": null,
   "metadata": {},
   "outputs": [],
   "source": [
    "pandas = pd.DataFrame.from_dict(data)\n",
    "pandas['paragraphs'] = pandas.apply(\n",
    "    lambda x: p_selector.paragrapher(x.subheaders, x.article), axis=1)\n",
    "print(pandas.head)"
   ]
  },
  {
   "cell_type": "markdown",
   "metadata": {},
   "source": [
    "Context manager for parsing the resulting text into a text file."
   ]
  },
  {
   "cell_type": "code",
   "execution_count": null,
   "metadata": {},
   "outputs": [],
   "source": [
    "with open('output.txt', 'w') as opened_file:\n",
    "    final = text_transformed[16].strip()\n",
    "    opened_file.write(\"titel:\" + article_title + \"\\n\")\n",
    "    opened_file.write(final)"
   ]
  }
 ],
 "metadata": {
  "language_info": {
   "name": "python"
  },
  "orig_nbformat": 4
 },
 "nbformat": 4,
 "nbformat_minor": 2
}
